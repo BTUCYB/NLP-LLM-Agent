{
 "cells": [
  {
   "cell_type": "code",
   "execution_count": 24,
   "id": "32b6b548-ff37-4de3-babf-097a6f4232cb",
   "metadata": {},
   "outputs": [
    {
     "name": "stdout",
     "output_type": "stream",
     "text": [
      "Fine-tuning started: ftjob-oBNkkcKo5VPoed6NWhPetUQ9\n"
     ]
    }
   ],
   "source": [
    "import openai\n",
    "import os\n",
    "\n",
    "openai.api_key = os.getenv(\"OPENAI_API_KEY\")\n",
    "\n",
    "# Upload the file\n",
    "file = openai.files.create(\n",
    "    file=open(\"finetune_data.json\", \"rb\"),\n",
    "    purpose=\"fine-tune\"\n",
    ")\n",
    "\n",
    "# Start fine-tuning\n",
    "fine_tune_job = openai.fine_tuning.jobs.create(\n",
    "    training_file=file.id,\n",
    "    model=\"gpt-4o-2024-08-06\"\n",
    ")\n",
    "\n",
    "print(f\"Fine-tuning started: {fine_tune_job.id}\")"
   ]
  },
  {
   "cell_type": "code",
   "execution_count": 26,
   "id": "97fea59f-26ce-4957-806a-e0ce7e160fb9",
   "metadata": {},
   "outputs": [
    {
     "name": "stdout",
     "output_type": "stream",
     "text": [
      "validating_files\n"
     ]
    }
   ],
   "source": [
    "status = openai.fine_tuning.jobs.retrieve(fine_tune_job.id)\n",
    "print(status.status)"
   ]
  },
  {
   "cell_type": "code",
   "execution_count": null,
   "id": "66c6e23e-fac2-46fa-a962-859b365557ab",
   "metadata": {},
   "outputs": [],
   "source": []
  }
 ],
 "metadata": {
  "kernelspec": {
   "display_name": "Python [conda env:base] *",
   "language": "python",
   "name": "conda-base-py"
  },
  "language_info": {
   "codemirror_mode": {
    "name": "ipython",
    "version": 3
   },
   "file_extension": ".py",
   "mimetype": "text/x-python",
   "name": "python",
   "nbconvert_exporter": "python",
   "pygments_lexer": "ipython3",
   "version": "3.12.7"
  }
 },
 "nbformat": 4,
 "nbformat_minor": 5
}
