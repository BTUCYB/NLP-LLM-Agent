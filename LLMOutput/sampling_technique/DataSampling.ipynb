{
 "cells": [
  {
   "cell_type": "code",
   "execution_count": 1,
   "id": "aa1a0375-935d-4045-9354-c1e7c2b3d6a0",
   "metadata": {},
   "outputs": [],
   "source": [
    "import pandas as pd\n",
    "import os\n",
    "\n",
    "logon_df = pd.read_csv('logon_clean.csv')\n",
    "device_df = pd.read_csv('device_cleaned.csv')\n",
    "email_df = pd.read_csv('email_cleaned.csv')\n",
    "file_df = pd.read_csv('file_cleaned.csv')\n",
    "http_df = pd.read_csv('http_cleaned.csv')"
   ]
  },
  {
   "cell_type": "code",
   "execution_count": 2,
   "id": "e070ecfd-39f2-4c75-abdd-67980a26f5e4",
   "metadata": {},
   "outputs": [
    {
     "name": "stdout",
     "output_type": "stream",
     "text": [
      "['JCR0172', 'MDM0625', 'BTW0005', 'DLM0051', 'HSB0196', 'AJR0319', 'TVS0050', 'MSS0001', 'TVS0006', 'QRM0739', 'HCS0003', 'GKO0078', 'OBH0499', 'HTH0007', 'KWC0004', 'THR0873', 'KBP0008', 'LBF0214', 'JDB0169', 'RZC0746', 'HRB0351', 'KKW0879', 'ATE0869', 'HPH0075', 'NAF0326']\n"
     ]
    }
   ],
   "source": [
    "from collections import Counter\n",
    "\n",
    "# Combine user frequencies across all datasets\n",
    "user_counts = Counter()\n",
    "\n",
    "for df in [logon_df, device_df, email_df, file_df, http_df]:\n",
    "    if 'user' in df.columns:\n",
    "        users = df['user']\n",
    "    else:\n",
    "        continue\n",
    "    user_counts.update(users)\n",
    "\n",
    "# Get top 25 active users\n",
    "top_users = [user for user, _ in user_counts.most_common(25)]\n",
    "\n",
    "# List malicious users\n",
    "malicious_users = ['RKD0604', 'TAP0551', 'WDD0366', 'MCF0600', 'MYD0978', 'PPF0435', 'RAB0589', 'RGG0064', 'KLH0596', 'KPC0073', 'LJR0523', 'LQC0479', 'MAR0955', 'MAS0025', 'FMG0527', 'FTM0406', 'GHL0460', 'HJB0742', 'JMB0308', 'JRG0207', 'BTL0226', 'CAH0936', 'DCH0843', 'EHB0824', 'EHD0584']\n",
    "\n",
    "# Use a set to remove duplicates\n",
    "test_users = list(set(top_users))\n",
    "\n",
    "print(test_users)"
   ]
  },
  {
   "cell_type": "code",
   "execution_count": 3,
   "id": "ffc75392-c5fa-41f8-a413-f9e2de64af34",
   "metadata": {},
   "outputs": [
    {
     "name": "stdout",
     "output_type": "stream",
     "text": [
      "[INFO] All sample files saved successfully.\n"
     ]
    }
   ],
   "source": [
    "def sample_per_user(df, user_col, activity_code, n=3):\n",
    "    df = df.copy()\n",
    "    df['activity_code'] = activity_code\n",
    "    samples = []\n",
    "    for user in test_users:\n",
    "        user_df = df[df[user_col] == user]\n",
    "        if len(user_df) >= n:\n",
    "            samples.append(user_df.sample(n=n, random_state=42))\n",
    "        else:\n",
    "            samples.append(user_df)\n",
    "    return pd.concat(samples)\n",
    "\n",
    "# Step 3: Handle logon and logoff from the same file\n",
    "logon_data = logon_df[logon_df['activity'] == 'logon']\n",
    "logoff_data = logon_df[logon_df['activity'] == 'logoff']\n",
    "\n",
    "logon_sample = sample_per_user(logon_data, 'user', activity_code=1)\n",
    "logoff_sample = sample_per_user(logoff_data, 'user', activity_code=2)\n",
    "\n",
    "# Step 4: Device connect/disconnect\n",
    "device_connect_sample = sample_per_user(device_df[device_df['activity'] == 'Connect'], 'user', activity_code=3)\n",
    "device_disconnect_sample = sample_per_user(device_df[device_df['activity'] == 'Disconnect'], 'user', activity_code=4)\n",
    "\n",
    "email_sample = sample_per_user(email_df, 'user', activity_code=5)\n",
    "\n",
    "file_sample = sample_per_user(file_df, 'user', activity_code=6)\n",
    "\n",
    "http_sample = sample_per_user(http_df, 'user', activity_code=7)\n",
    "\n",
    "# Save to CSV\n",
    "logon_sample.to_csv(\"logon_sample.csv\", index=False)\n",
    "logoff_sample.to_csv(\"logoff_sample.csv\", index=False)\n",
    "device_connect_sample.to_csv(\"connect_sample.csv\", index=False)\n",
    "device_disconnect_sample.to_csv(\"disconnect_sample.csv\", index=False)\n",
    "file_sample.to_csv(\"file_sample.csv\", index=False)\n",
    "email_sample.to_csv(\"email_sample.csv\", index=False)\n",
    "http_sample.to_csv(\"http_sample.csv\", index=False)\n",
    "\n",
    "print(\"[INFO] All sample files saved successfully.\")"
   ]
  },
  {
   "cell_type": "code",
   "execution_count": 13,
   "id": "36f626ac-8575-485e-98e3-d455e9f018b1",
   "metadata": {},
   "outputs": [
    {
     "name": "stdout",
     "output_type": "stream",
     "text": [
      "[INFO] Combined dataset shape: (444, 19)\n",
      "                         id                 date     user       pc activity  \\\n",
      "0  {U2G7-L9YT49HE-6525JFWT}  2011-02-16 09:51:54  JCR0172  PC-6713  Connect   \n",
      "1  {K3R3-C3MC71YF-2488RIQV}  2010-04-24 11:24:43  JCR0172  PC-6713  Connect   \n",
      "2  {Z4E8-V1QQ69DL-7721ZTUE}  2011-01-03 14:18:43  JCR0172  PC-6713  Connect   \n",
      "3  {I8J7-L8WD87PG-2901JDTT}  2010-07-02 15:30:22  MDM0625  PC-4984  Connect   \n",
      "4  {F1M0-S0VN97GB-3740KSYM}  2010-12-03 14:16:25  MDM0625  PC-4984  Connect   \n",
      "\n",
      "   hour  dayofweek  activity_binary  activity_code   to   cc  bcc from  size  \\\n",
      "0     9          2              1.0              3  NaN  NaN  NaN  NaN   NaN   \n",
      "1    11          5              1.0              3  NaN  NaN  NaN  NaN   NaN   \n",
      "2    14          0              1.0              3  NaN  NaN  NaN  NaN   NaN   \n",
      "3    15          4              1.0              3  NaN  NaN  NaN  NaN   NaN   \n",
      "4    14          4              1.0              3  NaN  NaN  NaN  NaN   NaN   \n",
      "\n",
      "   attachments content content_clean filename  url  \n",
      "0          NaN     NaN           NaN      NaN  NaN  \n",
      "1          NaN     NaN           NaN      NaN  NaN  \n",
      "2          NaN     NaN           NaN      NaN  NaN  \n",
      "3          NaN     NaN           NaN      NaN  NaN  \n",
      "4          NaN     NaN           NaN      NaN  NaN  \n"
     ]
    }
   ],
   "source": [
    "import glob\n",
    "\n",
    "# Load all sample CSVs\n",
    "sample_files = glob.glob(\"sampledata/*_sample.csv\")\n",
    "\n",
    "# Load and concatenate all CSVs\n",
    "dfs = [pd.read_csv(file) for file in sample_files]\n",
    "all_data = pd.concat(dfs, ignore_index=True)\n",
    "\n",
    "print(f\"[INFO] Combined dataset shape: {all_data.shape}\")\n",
    "print(all_data.head())\n",
    "\n",
    "all_data.to_csv(\"sample_data.csv\", index=False)"
   ]
  },
  {
   "cell_type": "code",
   "execution_count": null,
   "id": "87271241-b69c-4d38-be85-a3bf8a8560fa",
   "metadata": {},
   "outputs": [],
   "source": []
  }
 ],
 "metadata": {
  "kernelspec": {
   "display_name": "Python [conda env:base] *",
   "language": "python",
   "name": "conda-base-py"
  },
  "language_info": {
   "codemirror_mode": {
    "name": "ipython",
    "version": 3
   },
   "file_extension": ".py",
   "mimetype": "text/x-python",
   "name": "python",
   "nbconvert_exporter": "python",
   "pygments_lexer": "ipython3",
   "version": "3.12.7"
  }
 },
 "nbformat": 4,
 "nbformat_minor": 5
}
